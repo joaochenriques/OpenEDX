{
  "nbformat": 4,
  "nbformat_minor": 0,
  "metadata": {
    "language_info": {
      "codemirror_mode": {
        "name": "ipython",
        "version": 3
      },
      "file_extension": ".py",
      "mimetype": "text/x-python",
      "name": "python",
      "nbconvert_exporter": "python",
      "pygments_lexer": "ipython3",
      "version": "3.7.6-final"
    },
    "orig_nbformat": 2,
    "kernelspec": {
      "name": "python376jvsc74a57bd0b59879d5e3f5a8a2f2faee07a70ee8a2e6ae4b34825721b6f60a87942e756af3",
      "display_name": "Python 3.7.6 64-bit (conda)"
    },
    "colab": {
      "name": "Example__COMMENTED.ipynb",
      "provenance": []
    }
  },
  "cells": [
    {
      "cell_type": "code",
      "metadata": {
        "id": "EMiPOqu0PTfN"
      },
      "source": [
        "####################################################################\n",
        "# VERSION 07 - 2021/07/06\n",
        "####################################################################\n",
        "# most used libs\n",
        "from math import *\n",
        "import numpy as np\n",
        "import scipy as sc\n",
        "\n",
        "####################################################################\n",
        "# Used if running this python code outside MOOC test platform\n",
        "if not 'OfflineMode' in globals().keys():\n",
        "  OfflineMode = not 'anonymous_student_id' in globals().keys()\n",
        "if OfflineMode: \n",
        "  anonymous_student_id = 'student'\n",
        "\n",
        "####################################################################\n",
        "# print output if running offline\n",
        "def OfflinePrint( outtxt='' ):\n",
        "  if OfflineMode: print( outtxt )\n",
        "\n",
        "####################################################################\n",
        "# init numpy random generator\n",
        "def InitRandomGenerator( problem_id = '' ):\n",
        "    maxint = np.iinfo(np.int32).max\n",
        "    rnd_seed = hash( str( anonymous_student_id ) \\\n",
        "                   + str(problem_id) ) % maxint\n",
        "    np.random.seed( rnd_seed )\n",
        "\n",
        "####################################################################\n",
        "def Disturb( val, dig, dist ):\n",
        "  ss = +1.0 if np.random.uniform() >= 0.5 else -1.0\n",
        "  rr = np.random.uniform() * ( dist - 0.1 )\n",
        "  val = val + ss * val * ( rr + 0.1 )\n",
        "  return round( val, dig ) \n",
        "\n",
        "####################################################################\n",
        "# Uses the random number generator of numpy\n",
        "# This function should be used instead of random.choice()\n",
        "def RandomPick( lst ):\n",
        "  return lst[ np.random.randint( 0, len( lst ) ) ]\n",
        "\n",
        "####################################################################\n",
        "# Creates num_entries-1 invalid answers such that\n",
        "#\n",
        "#  This function generates the global variables associated with\n",
        "#  $a_answer_0,..., $a_answer_3 and\n",
        "#  $a_value_0,..., $a_value_3 and\n",
        "#\n",
        "#  <multiplechoiceresponse>\n",
        "#    <choicegroup type=\"MultipleChoice\">\n",
        "#      <choice correct=\"$a_answer_0\" > $a_value_0 </choice>\n",
        "#      <choice correct=\"$a_answer_1\" > $a_value_1 </choice>\n",
        "#      <choice correct=\"$a_answer_2\" > $a_value_2 </choice>\n",
        "#      <choice correct=\"$a_answer_3\" > $a_value_3 </choice>\n",
        "#    </choicegroup>\n",
        "#  </multiplechoiceresponse>\n",
        "#\n",
        "# prefix - the '*' used in the variables *_answer_0 and *_value_0\n",
        "# value - correct answer\n",
        "# ndigs - digits after the comma\n",
        "# suffix - usually the units of values\n",
        "# entries - total number of displayed values\n",
        "# minDelta - absolute value of the minimum distance between values\n",
        "#            The maximum distance between values is 2*minDelta\n",
        "# limits - 'greater', 'less', 'both'\n",
        "#\n",
        "def NumericMultipleChoice( prefix, value, ndigs, suffix, entries, minDelta, \n",
        "                             limits = 'both' ):\n",
        "\n",
        "    def fmt_val( val, dig ):\n",
        "        return \"{vl:.{dg}f}\".format( vl = val, dg = dig )\n",
        "\n",
        "    num_err = entries-1\n",
        "    options = [ [ \"true\", value ] ]\n",
        "\n",
        "    if limits == 'greater':\n",
        "      nup = num_err\n",
        "      ndn = 0\n",
        "    elif limits == 'less':\n",
        "      ndn = num_err\n",
        "      nup = 0\n",
        "    else:\n",
        "      nup = np.random.randint( 1, num_err ) # at least one up/dn\n",
        "      ndn = num_err - nup\n",
        "      \n",
        "    dn_val = value\n",
        "    for i in range( ndn ):\n",
        "      dd = np.fabs( minDelta ) * ( 1.0 + np.random.uniform(low=0.0, high=1.0) )\n",
        "      dn_val -= dd\n",
        "      options.append( [ \"false\", dn_val ] )\n",
        "\n",
        "    up_val = value\n",
        "    for i in range( nup ):\n",
        "      # minDelta <= dd <= 2*minDelta\n",
        "      dd = np.fabs( minDelta ) * ( 1.0 + np.random.uniform(low=0.0, high=1.0) )\n",
        "      up_val += dd\n",
        "      options.append( [ \"false\", up_val ] )\n",
        "\n",
        "    np.random.shuffle(options)\n",
        "    \n",
        "    # set the global variables\n",
        "    gdic = globals()\n",
        "    for i, opt in enumerate( options ):\n",
        "        val = fmt_val( opt[1], ndigs ) + ' ' + suffix\n",
        "        gdic[ '%s_answer_%i' % (prefix,i) ] = opt[0]\n",
        "        gdic[ '%s_value_%i'  % (prefix,i) ] = val\n",
        "        OfflinePrint( '[%s_answer_%i] (%-5s) %s' % ( prefix, i, opt[0], val ) )\n",
        "    OfflinePrint()\n",
        "\n",
        "####################################################################\n",
        "# Shuffles all the answers and generates the global variables \n",
        "# associated with\n",
        "#  $a_answer_0,..., $a_answer_3 and\n",
        "#  $a_value_0,..., $a_value_3 and\n",
        "#\n",
        "#  <multiplechoiceresponse>\n",
        "#    <choicegroup type=\"MultipleChoice\">\n",
        "#      <choice correct=\"$a_answer_0\" > $a_value_0 </choice>\n",
        "#      <choice correct=\"$a_answer_1\" > $a_value_1 </choice>\n",
        "#      <choice correct=\"$a_answer_2\" > $a_value_2 </choice>\n",
        "#      <choice correct=\"$a_answer_3\" > $a_value_3 </choice>\n",
        "#    </choicegroup>\n",
        "#  </multiplechoiceresponse>\n",
        "#\n",
        "#-------------------------------------------------------------------\n",
        "# Parameters:\n",
        "#\n",
        "# prefix - the '*' used in the variables *_answer_0 and *_value_0\n",
        "# correct: string with the correct answer   \n",
        "# wrong_lst: list of string with wrong answers\n",
        "#\n",
        "def StringMultipleChoice( prefix, shuffle_lst, fixed_lst=None ):\n",
        "\n",
        "    # shuffle and pick num_err entries\n",
        "    options = list( shuffle_lst ) \n",
        "    np.random.shuffle( options )\n",
        "    if fixed_lst != None:\n",
        "      options += list( fixed_lst )\n",
        "    \n",
        "    # set the global variables\n",
        "    gdic = globals()\n",
        "    for i, opt in enumerate( options ):\n",
        "        gdic[ '%s_answer_%i' % (prefix,i)  ] = opt[0]\n",
        "        gdic[ '%s_value_%i'  % (prefix,i)  ] = opt[1]\n",
        "        OfflinePrint( '[%s_answer_%i] (%-5s) %s\\n' % ( prefix, i, opt[0], opt[1] ) )\n",
        "    OfflinePrint()\n",
        "\n",
        "####################################################################"
      ],
      "execution_count": 139,
      "outputs": []
    },
    {
      "cell_type": "code",
      "metadata": {
        "id": "bY7J7uIPVvCT"
      },
      "source": [
        "InitRandomGenerator( \"Question 1--\")"
      ],
      "execution_count": 140,
      "outputs": []
    },
    {
      "cell_type": "code",
      "metadata": {
        "id": "foIwJe9TPTfS",
        "outputId": "8197b817-4f05-4180-efa9-54586d9b6ed7",
        "colab": {
          "base_uri": "https://localhost:8080/"
        }
      },
      "source": [
        "####################################################################\n",
        "# Problem data\n",
        "\n",
        "Cp_max = 0.49 \n",
        "lambda_max = 7.5\n",
        "rho_w = 1025.0\n",
        "\n",
        "Ucur_lst  = ( 1.5, 2.0, 2.5 )  # [m] \n",
        "Prated_lst = ( 0.50E6, 0.75E6, 1.00E6, 1.25E6 ) # [W]\n",
        "\n",
        "Ucur = RandomPick( Ucur_lst )\n",
        "Prated = RandomPick( Prated_lst )\n",
        "\n",
        "Prated_MW = Prated/1E6\n",
        "\n",
        "Poper = Prated * ( 0.5 + 0.3*np.random.uniform() )\n",
        "Poper_MW = round( Poper / 1E6, 2 ) \n",
        "\n",
        "####################################################################\n",
        "Radius = np.sqrt( Prated / ( 0.5*rho_w*Ucur**3*np.pi*Cp_max ) )\n",
        "Diam = 2.0 * Radius\n",
        "\n",
        "opt = NumericMultipleChoice( prefix='a', value=Diam, ndigs=1, suffix='m', entries=5, minDelta=0.1, limits = 'both' )\n",
        "\n",
        "####################################################################\n",
        "Uoper = ( Poper / ( 0.5*rho_w*np.pi*Radius**2*Cp_max ) )**(1.0/3.0)\n",
        "\n",
        "Omega = lambda_max*Uoper / Radius\n",
        "\n",
        "NumericMultipleChoice( prefix='b', value=Omega, ndigs=2, suffix='rad/s', entries=5, minDelta=0.2, limits = 'both' )"
      ],
      "execution_count": 165,
      "outputs": [
        {
          "output_type": "stream",
          "text": [
            "both 5 3 1\n",
            "[a_answer_0] (false) 34.1 m\n",
            "[a_answer_1] (false) 33.9 m\n",
            "[a_answer_2] (false) 33.4 m\n",
            "[a_answer_3] (false) 33.8 m\n",
            "[a_answer_4] (true ) 33.6 m\n",
            "\n",
            "both 5 2 2\n",
            "[b_answer_0] (false) 0.87 rad/s\n",
            "[b_answer_1] (false) 0.02 rad/s\n",
            "[b_answer_2] (false) 1.25 rad/s\n",
            "[b_answer_3] (false) 0.26 rad/s\n",
            "[b_answer_4] (true ) 0.59 rad/s\n",
            "\n"
          ],
          "name": "stdout"
        }
      ]
    },
    {
      "cell_type": "code",
      "metadata": {
        "id": "6FFn9T2HPTfU"
      },
      "source": [
        "\n"
      ],
      "execution_count": 137,
      "outputs": []
    },
    {
      "cell_type": "code",
      "metadata": {
        "id": "O78hdPC_PTfV",
        "outputId": "08a51d69-ceea-445b-8378-6e05429256a9",
        "colab": {
          "base_uri": "https://localhost:8080/"
        }
      },
      "source": [
        "np.random.randint( 0, 10 )"
      ],
      "execution_count": 123,
      "outputs": [
        {
          "output_type": "execute_result",
          "data": {
            "text/plain": [
              "4"
            ]
          },
          "metadata": {
            "tags": []
          },
          "execution_count": 123
        }
      ]
    },
    {
      "cell_type": "code",
      "metadata": {
        "id": "IjLd0l3_Ww8x"
      },
      "source": [
        "rng = np.random.default_rng(12345)\n"
      ],
      "execution_count": 99,
      "outputs": []
    },
    {
      "cell_type": "code",
      "metadata": {
        "id": "Nlu1CbSrYp3S",
        "outputId": "2a38f3b4-6644-4b70-8fb8-503c2a87bf86",
        "colab": {
          "base_uri": "https://localhost:8080/"
        }
      },
      "source": [
        "rng.integers(low=0, high=10)"
      ],
      "execution_count": 115,
      "outputs": [
        {
          "output_type": "execute_result",
          "data": {
            "text/plain": [
              "1"
            ]
          },
          "metadata": {
            "tags": []
          },
          "execution_count": 115
        }
      ]
    },
    {
      "cell_type": "code",
      "metadata": {
        "id": "mTVtP2ERZMR9"
      },
      "source": [
        "\n"
      ],
      "execution_count": 115,
      "outputs": []
    },
    {
      "cell_type": "code",
      "metadata": {
        "id": "iozZkbvyZY-3"
      },
      "source": [
        ""
      ],
      "execution_count": null,
      "outputs": []
    }
  ]
}