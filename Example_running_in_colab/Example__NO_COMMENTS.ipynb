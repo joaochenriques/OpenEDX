{
  "nbformat": 4,
  "nbformat_minor": 0,
  "metadata": {
    "colab": {
      "name": "Untitled1.ipynb",
      "provenance": [],
      "toc_visible": true,
      "authorship_tag": "ABX9TyN7ShZzUZuf42Ycue9gobZx",
      "include_colab_link": true
    },
    "kernelspec": {
      "name": "python3",
      "display_name": "Python 3"
    },
    "language_info": {
      "name": "python"
    }
  },
  "cells": [
    {
      "cell_type": "markdown",
      "metadata": {
        "id": "view-in-github",
        "colab_type": "text"
      },
      "source": [
        "<a href=\"https://colab.research.google.com/github/joaochenriques/OpenEDX/blob/master/Example_running_in_colab/Example__NO_COMMENTS.ipynb\" target=\"_parent\"><img src=\"https://colab.research.google.com/assets/colab-badge.svg\" alt=\"Open In Colab\"/></a>"
      ]
    },
    {
      "cell_type": "code",
      "metadata": {
        "id": "Vo-QAPmCxoKb"
      },
      "source": [
        "####################################################################\n",
        "# VERSION 07 - 2021/07/06\n",
        "# See for details: https://github.com/joaochenriques/OpenEDX/\n",
        "####################################################################\n",
        "from math import *\n",
        "import numpy as np\n",
        "import scipy as sc\n",
        "####################################################################\n",
        "if not 'OfflineMode' in globals().keys():\n",
        "  OfflineMode = not 'anonymous_student_id' in globals().keys()\n",
        "if OfflineMode: \n",
        "  anonymous_student_id = 'student'\n",
        "####################################################################\n",
        "def OfflinePrint( outtxt='' ): \n",
        "  if OfflineMode: print( outtxt )\n",
        "####################################################################\n",
        "def InitRandomGenerator( problem_id = '' ):\n",
        "    maxint = np.iinfo(np.int32).max\n",
        "    rnd_seed = hash( str( anonymous_student_id ) \\\n",
        "                   + str(problem_id) ) % maxint\n",
        "    np.random.seed( rnd_seed )\n",
        "####################################################################\n",
        "def Disturb( val, dig, dist ):\n",
        "  ss = +1.0 if np.random.uniform() >= 0.5 else -1.0\n",
        "  rr = np.random.uniform() * ( dist - 0.1 )\n",
        "  val = val + ss * val * ( rr + 0.1 )\n",
        "  return round( val, dig ) \n",
        "####################################################################\n",
        "def RandomPick( lst ):\n",
        "  return lst[ np.random.randint( 0, len( lst ) ) ]\n",
        "####################################################################\n",
        "def NumericMultipleChoice( prefix, value, ndigs, suffix, entries, minDelta, \n",
        "                             limits = 'both' ):\n",
        "    def fmt_val( val, dig ):\n",
        "        return \"{vl:.{dg}f}\".format( vl = val, dg = dig )\n",
        "    num_err = entries-1\n",
        "    options = [ [ \"true\", value ] ]\n",
        "    if limits == 'greater':\n",
        "      nup = num_err\n",
        "      ndn = 0\n",
        "    elif limits == 'less':\n",
        "      ndn = num_err\n",
        "      nup = 0\n",
        "    else:\n",
        "      nup = np.random.randint( 1, num_err ) # at least one up/dn\n",
        "      ndn = num_err - nup   \n",
        "    dn_val = value\n",
        "    for i in range( ndn ):\n",
        "      dd = np.fabs( minDelta ) * ( 1.0 + np.random.uniform(low=0.0, high=1.0) )\n",
        "      dn_val -= dd\n",
        "      options.append( [ \"false\", dn_val ] )\n",
        "    up_val = value\n",
        "    for i in range( nup ):\n",
        "      # minDelta <= dd <= 2*minDelta\n",
        "      dd = np.fabs( minDelta ) * ( 1.0 + np.random.uniform(low=0.0, high=1.0) )\n",
        "      up_val += dd\n",
        "      options.append( [ \"false\", up_val ] )\n",
        "    np.random.shuffle(options)\n",
        "    gdic = globals()\n",
        "    for i, opt in enumerate( options ):\n",
        "        val = fmt_val( opt[1], ndigs ) + ' ' + suffix\n",
        "        gdic[ '%s_answer_%i' % (prefix,i) ] = opt[0]\n",
        "        gdic[ '%s_value_%i'  % (prefix,i) ] = val\n",
        "        OfflinePrint( '<%s_answer_%i> (%-5s) %s' % ( prefix, i, opt[0], val ) )\n",
        "    OfflinePrint()\n",
        "####################################################################\n",
        "def StringMultipleChoice( prefix, shuffle_lst, fixed_lst=None ):\n",
        "    options = list( shuffle_lst ) \n",
        "    np.random.shuffle( options )\n",
        "    if fixed_lst != None:\n",
        "      options += list( fixed_lst )\n",
        "    gdic = globals()\n",
        "    for i, opt in enumerate( options ):\n",
        "        gdic[ '%s_answer_%i' % (prefix,i)  ] = opt[0]\n",
        "        gdic[ '%s_value_%i'  % (prefix,i)  ] = opt[1]\n",
        "        OfflinePrint( '<%s_answer_%i> (%-5s) %s' % ( prefix, i, opt[0], opt[1] ) )\n",
        "    OfflinePrint()\n",
        "####################################################################"
      ],
      "execution_count": 1,
      "outputs": []
    },
    {
      "cell_type": "code",
      "metadata": {
        "colab": {
          "base_uri": "https://localhost:8080/"
        },
        "id": "0mz0TmqoxpIi",
        "outputId": "3d031fe4-60fd-48eb-90dc-d659cdda8684"
      },
      "source": [
        "InitRandomGenerator( \"Question 1\")\n",
        "\n",
        "####################################################################\n",
        "# Problem data\n",
        "\n",
        "Cp_max = 0.49 \n",
        "lambda_max = 7.5\n",
        "rho_w = 1025.0\n",
        "\n",
        "Ucur_lst  = ( 1.5, 2.0, 2.5 )  # [m] \n",
        "Prated_lst = ( 0.50E6, 0.75E6, 1.00E6, 1.25E6 ) # [W]\n",
        "\n",
        "Ucur = RandomPick( Ucur_lst )\n",
        "Prated = RandomPick( Prated_lst )\n",
        "\n",
        "Prated_MW = Prated/1E6\n",
        "\n",
        "Poper = Prated * ( 0.5 + 0.3*np.random.uniform() )\n",
        "Poper_MW = round( Poper / 1E6, 2 ) \n",
        "\n",
        "####################################################################\n",
        "Radius = np.sqrt( Prated / ( 0.5*rho_w*Ucur**3*np.pi*Cp_max ) )\n",
        "Diam = 2.0 * Radius\n",
        "\n",
        "opt = NumericMultipleChoice( prefix='a', value=Diam, ndigs=1, suffix='m', entries=5, minDelta=0.1, limits = 'both' )\n",
        "\n",
        "####################################################################\n",
        "Uoper = ( Poper / ( 0.5*rho_w*np.pi*Radius**2*Cp_max ) )**(1.0/3.0)\n",
        "\n",
        "Omega = lambda_max*Uoper / Radius\n",
        "\n",
        "NumericMultipleChoice( prefix='b', value=Omega, ndigs=2, suffix='rad/s', entries=5, minDelta=0.2, limits = 'both' )"
      ],
      "execution_count": 2,
      "outputs": [
        {
          "output_type": "stream",
          "text": [
            "<a_answer_0> (false) 27.2 m\n",
            "<a_answer_1> (false) 27.7 m\n",
            "<a_answer_2> (false) 27.8 m\n",
            "<a_answer_3> (false) 27.6 m\n",
            "<a_answer_4> (true ) 27.4 m\n",
            "\n",
            "<b_answer_0> (true ) 0.72 rad/s\n",
            "<b_answer_1> (false) 0.41 rad/s\n",
            "<b_answer_2> (false) 1.47 rad/s\n",
            "<b_answer_3> (false) 0.17 rad/s\n",
            "<b_answer_4> (false) 1.10 rad/s\n",
            "\n"
          ],
          "name": "stdout"
        }
      ]
    },
    {
      "cell_type": "code",
      "metadata": {
        "id": "1SKW5wVaxq-n",
        "colab": {
          "base_uri": "https://localhost:8080/"
        },
        "outputId": "389099f2-1a56-42ce-f161-cf152fab810c"
      },
      "source": [
        "InitRandomGenerator( \"Question 2\" )\n",
        "\n",
        "shuff_lst = ( \n",
        "  ( True,  \"Answer 1.\" ),\n",
        "  ( False, \"Answer 2.\" ),\n",
        "  ( False, \"Answer 3.\" )\n",
        ")\n",
        "\n",
        "fixed_lst = ( \n",
        "  ( False, \"all options above.\" ), \n",
        "  ( False, \"none of the options\" ) \n",
        ")\n",
        "\n",
        "StringMultipleChoice( prefix='c', shuffle_lst=shuff_lst, fixed_lst=fixed_lst )\n"
      ],
      "execution_count": 3,
      "outputs": [
        {
          "output_type": "stream",
          "text": [
            "<c_answer_0> (False) Answer 3.\n",
            "<c_answer_1> (True ) Answer 1.\n",
            "<c_answer_2> (False) Answer 2.\n",
            "<c_answer_3> (False) all options above.\n",
            "<c_answer_4> (False) none of the options\n",
            "\n"
          ],
          "name": "stdout"
        }
      ]
    },
    {
      "cell_type": "code",
      "metadata": {
        "id": "2dSHXanyYO9h"
      },
      "source": [
        ""
      ],
      "execution_count": null,
      "outputs": []
    }
  ]
}